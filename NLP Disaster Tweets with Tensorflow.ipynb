{
 "cells": [
  {
   "cell_type": "code",
   "execution_count": 1,
   "metadata": {},
   "outputs": [],
   "source": [
    "import pandas as pd\n",
    "import numpy as np\n",
    "import warnings\n",
    "warnings.filterwarnings('ignore')\n",
    "\n",
    "from sklearn.model_selection import train_test_split\n",
    "from cleaner_utilities import MyDataTransformer\n",
    "from sklearn.metrics import accuracy_score"
   ]
  },
  {
   "cell_type": "code",
   "execution_count": 2,
   "metadata": {},
   "outputs": [],
   "source": [
    "train_df = pd.read_csv( '~/NLP/NLP_Disaster_tweets/train.csv')\n",
    "X_train, X_val, y_train, y_val= train_test_split(train_df, train_df['target'])\n",
    "\n",
    "my_data_transformer = MyDataTransformer()\n",
    "\n",
    "y_train = np.array(y_train).reshape(1,-1)\n",
    "\n",
    "X_train = my_data_transformer.fit_transform(X_train)\n",
    "\n",
    "X_train.shape"
   ]
  },
  {
   "cell_type": "code",
   "execution_count": 7,
   "metadata": {},
   "outputs": [],
   "source": [
    "import tensorflow.compat.v1 as tf"
   ]
  },
  {
   "cell_type": "code",
   "execution_count": 8,
   "metadata": {},
   "outputs": [],
   "source": [
    "tf.disable_eager_execution()"
   ]
  },
  {
   "cell_type": "code",
   "execution_count": 9,
   "metadata": {},
   "outputs": [
    {
     "name": "stdout",
     "output_type": "stream",
     "text": [
      "WARNING:tensorflow:From /Users/Kunal/anaconda3/lib/python3.6/site-packages/tensorflow_core/python/ops/resource_variable_ops.py:1635: calling BaseResourceVariable.__init__ (from tensorflow.python.ops.resource_variable_ops) with constraint is deprecated and will be removed in a future version.\n",
      "Instructions for updating:\n",
      "If using Keras pass *_constraint arguments to layers.\n"
     ]
    }
   ],
   "source": [
    "X = tf.placeholder(dtype = tf.float32 , shape=[X_train.shape[0], None], name='X')\n",
    "Y = tf.placeholder(dtype = tf.float32,  shape=[1,None], name='Y')\n",
    "\n",
    "W1 = tf.get_variable('W1', shape=[256,X_train.shape[0]], initializer=tf.initializers.glorot_uniform())\n",
    "b1 = tf.get_variable('b1', shape=[256,1],initializer=tf.zeros_initializer() )\n",
    "\n",
    "W2 = tf.get_variable('W2', shape=[128,256], initializer=tf.initializers.glorot_uniform())\n",
    "b2 = tf.get_variable('b2', shape=[128,1],initializer=tf.zeros_initializer() )\n",
    "\n",
    "W3 = tf.get_variable('W3', shape=[1,128], initializer=tf.initializers.glorot_uniform())\n",
    "b3 = tf.get_variable('b3', shape=[1,1],initializer=tf.zeros_initializer() )\n",
    "\n"
   ]
  },
  {
   "cell_type": "code",
   "execution_count": 10,
   "metadata": {},
   "outputs": [],
   "source": [
    "Z1 = tf.add(tf.matmul(W1,X),b1)\n",
    "A1 = tf.nn.relu(Z1)\n",
    "Z2 = tf.add(tf.matmul(W2,A1),b2)\n",
    "A2 = tf.nn.relu(Z2)\n",
    "Z3 = tf.add(tf.matmul(W3,A2),b3)"
   ]
  },
  {
   "cell_type": "code",
   "execution_count": 11,
   "metadata": {},
   "outputs": [],
   "source": [
    "\n",
    "cost = tf.reduce_mean(tf.nn.sigmoid_cross_entropy_with_logits(logits=Z3,labels=Y))"
   ]
  },
  {
   "cell_type": "code",
   "execution_count": 12,
   "metadata": {},
   "outputs": [],
   "source": [
    "optimizer = tf.train.AdamOptimizer(learning_rate=0.01).minimize(cost)"
   ]
  },
  {
   "cell_type": "code",
   "execution_count": 13,
   "metadata": {},
   "outputs": [],
   "source": [
    "init = tf.global_variables_initializer()"
   ]
  },
  {
   "cell_type": "code",
   "execution_count": 14,
   "metadata": {},
   "outputs": [],
   "source": [
    "session = tf.Session()\n",
    "session.run(init)"
   ]
  },
  {
   "cell_type": "code",
   "execution_count": 15,
   "metadata": {},
   "outputs": [
    {
     "name": "stdout",
     "output_type": "stream",
     "text": [
      "training cost at iteration 0 = 0.866280198097229\n",
      "training cost at iteration 1 = 4.733925819396973\n",
      "training cost at iteration 2 = 0.2944730818271637\n",
      "training cost at iteration 3 = 0.13008588552474976\n",
      "training cost at iteration 4 = 0.1748783141374588\n",
      "training cost at iteration 5 = 0.18408310413360596\n",
      "training cost at iteration 6 = 0.1195172592997551\n",
      "training cost at iteration 7 = 0.09646999090909958\n",
      "training cost at iteration 8 = 0.08143307268619537\n",
      "training cost at iteration 9 = 0.07061268389225006\n",
      "training cost at iteration 10 = 0.06253376603126526\n",
      "training cost at iteration 11 = 0.05638793855905533\n",
      "training cost at iteration 12 = 0.0517449714243412\n",
      "training cost at iteration 13 = 0.04810613393783569\n",
      "training cost at iteration 14 = 0.0450831763446331\n",
      "training cost at iteration 15 = 0.0425918772816658\n",
      "training cost at iteration 16 = 0.040540795773267746\n",
      "training cost at iteration 17 = 0.038775693625211716\n",
      "training cost at iteration 18 = 0.037240251898765564\n",
      "training cost at iteration 19 = 0.035853054374456406\n",
      "training cost at iteration 20 = 0.03463798761367798\n",
      "training cost at iteration 21 = 0.03354503586888313\n",
      "training cost at iteration 22 = 0.0326206237077713\n",
      "training cost at iteration 23 = 0.03182707726955414\n",
      "training cost at iteration 24 = 0.03114817850291729\n",
      "training cost at iteration 25 = 0.030542965978384018\n",
      "training cost at iteration 26 = 0.029952891170978546\n",
      "training cost at iteration 27 = 0.02939567342400551\n",
      "training cost at iteration 28 = 0.028883904218673706\n",
      "training cost at iteration 29 = 0.02841215580701828\n"
     ]
    }
   ],
   "source": [
    "for i in range(30):\n",
    "    \n",
    "    _,train_cost = session.run([optimizer,cost], feed_dict={X:X_train,Y:y_train})\n",
    "    \n",
    "    print(f'training cost at iteration {i} = {train_cost}')\n",
    "\n"
   ]
  },
  {
   "cell_type": "code",
   "execution_count": 16,
   "metadata": {},
   "outputs": [],
   "source": [
    "X_val = my_data_transformer.transform(X_val)\n",
    "y_val = np.array(y_val).reshape(1,-1)"
   ]
  },
  {
   "cell_type": "code",
   "execution_count": 19,
   "metadata": {},
   "outputs": [],
   "source": [
    "def print_validation_accuracy():\n",
    "    \n",
    "    z3 = session.run(Z3,feed_dict={X:X_val,Y:y_val})\n",
    "\n",
    "    y_val_hat = tf.nn.sigmoid(z3)\n",
    "\n",
    "    y_val_hat = session.run(y_val_hat)\n",
    "\n",
    "    y_val_hat = np.array(y_val_hat)\n",
    "\n",
    "    val_preds = np.where(y_val_hat >= 0.5,1,0)\n",
    "\n",
    "    print(accuracy_score(y_val[0],val_preds[0]))"
   ]
  },
  {
   "cell_type": "code",
   "execution_count": 21,
   "metadata": {},
   "outputs": [
    {
     "name": "stdout",
     "output_type": "stream",
     "text": [
      "0.7531512605042017\n"
     ]
    }
   ],
   "source": [
    "print_validation_accuracy()"
   ]
  },
  {
   "cell_type": "code",
   "execution_count": 22,
   "metadata": {},
   "outputs": [],
   "source": [
    "#currently it's overfitting need to work on MyDataTransformer which is data cleaning part"
   ]
  },
  {
   "cell_type": "code",
   "execution_count": null,
   "metadata": {},
   "outputs": [],
   "source": []
  }
 ],
 "metadata": {
  "kernelspec": {
   "display_name": "Python 3",
   "language": "python",
   "name": "python3"
  },
  "language_info": {
   "codemirror_mode": {
    "name": "ipython",
    "version": 3
   },
   "file_extension": ".py",
   "mimetype": "text/x-python",
   "name": "python",
   "nbconvert_exporter": "python",
   "pygments_lexer": "ipython3",
   "version": "3.6.10"
  }
 },
 "nbformat": 4,
 "nbformat_minor": 4
}
